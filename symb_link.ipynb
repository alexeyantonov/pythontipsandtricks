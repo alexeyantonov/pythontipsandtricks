{
 "cells": [
  {
   "cell_type": "code",
   "execution_count": null,
   "metadata": {
    "collapsed": true
   },
   "outputs": [],
   "source": [
    "import numpy as np"
   ]
  },
  {
   "cell_type": "code",
   "execution_count": 9,
   "metadata": {
    "collapsed": false
   },
   "outputs": [
    {
     "name": "stdout",
     "output_type": "stream",
     "text": [
      "[0 1 2 3 4 5 6 7 8 9]\n",
      "[0 1 2 3 4]\n",
      "[999 999 999 999 999   5   6   7   8   9]\n",
      "[999 999 999 999 999]\n"
     ]
    }
   ],
   "source": [
    "# interesing (error)\n",
    "\n",
    "arr=np.arange(10)\n",
    "arr1=arr[:5]\n",
    "\n",
    "print(arr)\n",
    "print(arr1)\n",
    "arr1[:]=999\n",
    "print(arr)\n",
    "print(arr1)\n",
    "\n",
    "# thus arr1 is a link to part of arr"
   ]
  },
  {
   "cell_type": "code",
   "execution_count": 10,
   "metadata": {
    "collapsed": false
   },
   "outputs": [
    {
     "name": "stdout",
     "output_type": "stream",
     "text": [
      "[0 1 2 3 4 5 6 7 8 9]\n",
      "[0 1 2 3 4]\n",
      "[0 1 2 3 4 5 6 7 8 9]\n",
      "[999 999 999 999 999]\n"
     ]
    }
   ],
   "source": [
    "# we can do this way\n",
    "arr=np.arange(10)\n",
    "arr1=arr[:5].copy()\n",
    "\n",
    "print(arr)\n",
    "print(arr1)\n",
    "arr1[:]=999\n",
    "print(arr)\n",
    "print(arr1)\n"
   ]
  },
  {
   "cell_type": "code",
   "execution_count": null,
   "metadata": {
    "collapsed": true
   },
   "outputs": [],
   "source": []
  }
 ],
 "metadata": {
  "kernelspec": {
   "display_name": "Python 3",
   "language": "python",
   "name": "python3"
  },
  "language_info": {
   "codemirror_mode": {
    "name": "ipython",
    "version": 3
   },
   "file_extension": ".py",
   "mimetype": "text/x-python",
   "name": "python",
   "nbconvert_exporter": "python",
   "pygments_lexer": "ipython3",
   "version": "3.4.4"
  }
 },
 "nbformat": 4,
 "nbformat_minor": 0
}
